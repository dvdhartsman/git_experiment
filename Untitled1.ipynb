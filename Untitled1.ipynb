{
 "cells": [
  {
   "cell_type": "code",
   "execution_count": 1,
   "metadata": {},
   "outputs": [
    {
     "name": "stdout",
     "output_type": "stream",
     "text": [
      "This is the second notebook\n"
     ]
    }
   ],
   "source": [
    "print(\"This is the second notebook\")"
   ]
  },
  {
   "cell_type": "code",
   "execution_count": 2,
   "metadata": {},
   "outputs": [
    {
     "name": "stdout",
     "output_type": "stream",
     "text": [
      "You'll regret this, moohoohhaha\n",
      "You'll regret this, moohoohhaha\n",
      "You'll regret this, moohoohhaha\n",
      "You'll regret this, moohoohhaha\n",
      "You'll regret this, moohoohhaha\n",
      "You'll regret this, moohoohhaha\n",
      "You'll regret this, moohoohhaha\n",
      "You'll regret this, moohoohhaha\n",
      "You'll regret this, moohoohhaha\n",
      "You'll regret this, moohoohhaha\n"
     ]
    }
   ],
   "source": [
    "for i in range(10):\n",
    "    print(\"You'll regret this, moohoohhaha\")"
   ]
  },
  {
   "cell_type": "code",
   "execution_count": 4,
   "metadata": {},
   "outputs": [],
   "source": [
    "def regret(i=\"David\"):\n",
    "    print(f\"You had the option to work by yourself, {i}, and you blew it.\")"
   ]
  },
  {
   "cell_type": "code",
   "execution_count": 6,
   "metadata": {},
   "outputs": [
    {
     "name": "stdout",
     "output_type": "stream",
     "text": [
      "You had the option to work by yourself, David, and you blew it.\n"
     ]
    }
   ],
   "source": [
    "regret()"
   ]
  },
  {
   "cell_type": "code",
   "execution_count": 7,
   "metadata": {},
   "outputs": [
    {
     "name": "stdout",
     "output_type": "stream",
     "text": [
      "You had the option to work by yourself, Fred, and you blew it.\n"
     ]
    }
   ],
   "source": [
    "regret(\"Fred\")"
   ]
  },
  {
   "cell_type": "code",
   "execution_count": null,
   "metadata": {},
   "outputs": [],
   "source": []
  }
 ],
 "metadata": {
  "kernelspec": {
   "display_name": "Python (learn-env)",
   "language": "python",
   "name": "learn-env"
  },
  "language_info": {
   "codemirror_mode": {
    "name": "ipython",
    "version": 3
   },
   "file_extension": ".py",
   "mimetype": "text/x-python",
   "name": "python",
   "nbconvert_exporter": "python",
   "pygments_lexer": "ipython3",
   "version": "3.8.5"
  }
 },
 "nbformat": 4,
 "nbformat_minor": 4
}
