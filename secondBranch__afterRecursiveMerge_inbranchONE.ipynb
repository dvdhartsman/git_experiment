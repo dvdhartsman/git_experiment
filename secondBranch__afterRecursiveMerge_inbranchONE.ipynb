{
 "cells": [
  {
   "cell_type": "code",
   "execution_count": 1,
   "metadata": {},
   "outputs": [
    {
     "name": "stdout",
     "output_type": "stream",
     "text": [
      "This is the second notebook\n"
     ]
    }
   ],
   "source": [
    "print(\"This is the second notebook\")"
   ]
  },
  {
   "cell_type": "code",
   "execution_count": 2,
   "metadata": {},
   "outputs": [
    {
     "name": "stdout",
     "output_type": "stream",
     "text": [
      "You'll regret this, moohoohhaha\n",
      "You'll regret this, moohoohhaha\n",
      "You'll regret this, moohoohhaha\n",
      "You'll regret this, moohoohhaha\n",
      "You'll regret this, moohoohhaha\n",
      "You'll regret this, moohoohhaha\n",
      "You'll regret this, moohoohhaha\n",
      "You'll regret this, moohoohhaha\n",
      "You'll regret this, moohoohhaha\n",
      "You'll regret this, moohoohhaha\n"
     ]
    }
   ],
   "source": [
    "for i in range(10):\n",
    "    print(\"You'll regret this, moohoohhaha\")"
   ]
  },
  {
   "cell_type": "code",
   "execution_count": 1,
   "metadata": {},
   "outputs": [],
   "source": [
    "import pandas as pd"
   ]
  },
  {
   "cell_type": "code",
   "execution_count": 2,
   "metadata": {},
   "outputs": [],
   "source": [
    "df = pd.read_csv(\"/Users/samalainabayeva/Desktop/final_data.csv\")"
   ]
  },
  {
   "cell_type": "code",
   "execution_count": 3,
   "metadata": {},
   "outputs": [
    {
     "data": {
      "text/html": [
       "<div>\n",
       "<style scoped>\n",
       "    .dataframe tbody tr th:only-of-type {\n",
       "        vertical-align: middle;\n",
       "    }\n",
       "\n",
       "    .dataframe tbody tr th {\n",
       "        vertical-align: top;\n",
       "    }\n",
       "\n",
       "    .dataframe thead th {\n",
       "        text-align: right;\n",
       "    }\n",
       "</style>\n",
       "<table border=\"1\" class=\"dataframe\">\n",
       "  <thead>\n",
       "    <tr style=\"text-align: right;\">\n",
       "      <th></th>\n",
       "      <th>movie_id</th>\n",
       "      <th>genres</th>\n",
       "      <th>avg_ratings</th>\n",
       "      <th>num_votes</th>\n",
       "      <th>region</th>\n",
       "      <th>category</th>\n",
       "      <th>artist_name</th>\n",
       "      <th>screen_time</th>\n",
       "      <th>movie_title</th>\n",
       "      <th>death_year</th>\n",
       "      <th>...</th>\n",
       "      <th>release_date</th>\n",
       "      <th>movie</th>\n",
       "      <th>production_budget</th>\n",
       "      <th>domestic_gross</th>\n",
       "      <th>worldwide_gross</th>\n",
       "      <th>release_year</th>\n",
       "      <th>release_month</th>\n",
       "      <th>foreign_gross</th>\n",
       "      <th>total_profit</th>\n",
       "      <th>roi</th>\n",
       "    </tr>\n",
       "  </thead>\n",
       "  <tbody>\n",
       "    <tr>\n",
       "      <th>0</th>\n",
       "      <td>tt0369610</td>\n",
       "      <td>Action,Adventure,Sci-Fi</td>\n",
       "      <td>7.0</td>\n",
       "      <td>539338</td>\n",
       "      <td>BG</td>\n",
       "      <td>producer</td>\n",
       "      <td>Patrick Crowley</td>\n",
       "      <td>124.0</td>\n",
       "      <td>Jurassic World</td>\n",
       "      <td>NaN</td>\n",
       "      <td>...</td>\n",
       "      <td>2015-06-12</td>\n",
       "      <td>Jurassic World</td>\n",
       "      <td>215.0</td>\n",
       "      <td>652.270625</td>\n",
       "      <td>1648.854864</td>\n",
       "      <td>2015</td>\n",
       "      <td>6</td>\n",
       "      <td>996.584239</td>\n",
       "      <td>1433.854864</td>\n",
       "      <td>6.669092</td>\n",
       "    </tr>\n",
       "    <tr>\n",
       "      <th>1</th>\n",
       "      <td>tt0401729</td>\n",
       "      <td>Action,Adventure,Sci-Fi</td>\n",
       "      <td>6.6</td>\n",
       "      <td>241792</td>\n",
       "      <td>UA</td>\n",
       "      <td>actor</td>\n",
       "      <td>Willem Dafoe</td>\n",
       "      <td>132.0</td>\n",
       "      <td>John Carter</td>\n",
       "      <td>NaN</td>\n",
       "      <td>...</td>\n",
       "      <td>2012-03-09</td>\n",
       "      <td>John Carter</td>\n",
       "      <td>275.0</td>\n",
       "      <td>73.058679</td>\n",
       "      <td>282.778100</td>\n",
       "      <td>2012</td>\n",
       "      <td>3</td>\n",
       "      <td>209.719421</td>\n",
       "      <td>7.778100</td>\n",
       "      <td>0.028284</td>\n",
       "    </tr>\n",
       "    <tr>\n",
       "      <th>2</th>\n",
       "      <td>tt1014759</td>\n",
       "      <td>Adventure,Family,Fantasy</td>\n",
       "      <td>6.5</td>\n",
       "      <td>358813</td>\n",
       "      <td>IE</td>\n",
       "      <td>actor</td>\n",
       "      <td>Johnny Depp</td>\n",
       "      <td>108.0</td>\n",
       "      <td>Alice in Wonderland</td>\n",
       "      <td>NaN</td>\n",
       "      <td>...</td>\n",
       "      <td>2010-03-05</td>\n",
       "      <td>Alice in Wonderland</td>\n",
       "      <td>200.0</td>\n",
       "      <td>334.191110</td>\n",
       "      <td>1025.491110</td>\n",
       "      <td>2010</td>\n",
       "      <td>3</td>\n",
       "      <td>691.300000</td>\n",
       "      <td>825.491110</td>\n",
       "      <td>4.127456</td>\n",
       "    </tr>\n",
       "    <tr>\n",
       "      <th>3</th>\n",
       "      <td>tt1194173</td>\n",
       "      <td>Action,Adventure,Thriller</td>\n",
       "      <td>6.7</td>\n",
       "      <td>268678</td>\n",
       "      <td>RS</td>\n",
       "      <td>actor</td>\n",
       "      <td>Scott Glenn</td>\n",
       "      <td>135.0</td>\n",
       "      <td>The Bourne Legacy</td>\n",
       "      <td>NaN</td>\n",
       "      <td>...</td>\n",
       "      <td>2012-08-10</td>\n",
       "      <td>The Bourne Legacy</td>\n",
       "      <td>125.0</td>\n",
       "      <td>113.203870</td>\n",
       "      <td>280.355920</td>\n",
       "      <td>2012</td>\n",
       "      <td>8</td>\n",
       "      <td>167.152050</td>\n",
       "      <td>155.355920</td>\n",
       "      <td>1.242847</td>\n",
       "    </tr>\n",
       "    <tr>\n",
       "      <th>4</th>\n",
       "      <td>tt1219289</td>\n",
       "      <td>Mystery,Sci-Fi,Thriller</td>\n",
       "      <td>7.4</td>\n",
       "      <td>492490</td>\n",
       "      <td>AR</td>\n",
       "      <td>actor</td>\n",
       "      <td>Robert De Niro</td>\n",
       "      <td>105.0</td>\n",
       "      <td>Limitless</td>\n",
       "      <td>NaN</td>\n",
       "      <td>...</td>\n",
       "      <td>2011-03-18</td>\n",
       "      <td>Limitless</td>\n",
       "      <td>27.0</td>\n",
       "      <td>79.249455</td>\n",
       "      <td>155.564919</td>\n",
       "      <td>2011</td>\n",
       "      <td>3</td>\n",
       "      <td>76.315464</td>\n",
       "      <td>128.564919</td>\n",
       "      <td>4.761664</td>\n",
       "    </tr>\n",
       "  </tbody>\n",
       "</table>\n",
       "<p>5 rows × 22 columns</p>\n",
       "</div>"
      ],
      "text/plain": [
       "    movie_id                     genres  avg_ratings  num_votes region  \\\n",
       "0  tt0369610    Action,Adventure,Sci-Fi          7.0     539338     BG   \n",
       "1  tt0401729    Action,Adventure,Sci-Fi          6.6     241792     UA   \n",
       "2  tt1014759   Adventure,Family,Fantasy          6.5     358813     IE   \n",
       "3  tt1194173  Action,Adventure,Thriller          6.7     268678     RS   \n",
       "4  tt1219289    Mystery,Sci-Fi,Thriller          7.4     492490     AR   \n",
       "\n",
       "   category      artist_name  screen_time          movie_title  death_year  \\\n",
       "0  producer  Patrick Crowley        124.0       Jurassic World         NaN   \n",
       "1     actor     Willem Dafoe        132.0          John Carter         NaN   \n",
       "2     actor      Johnny Depp        108.0  Alice in Wonderland         NaN   \n",
       "3     actor      Scott Glenn        135.0    The Bourne Legacy         NaN   \n",
       "4     actor   Robert De Niro        105.0            Limitless         NaN   \n",
       "\n",
       "   ...  release_date                movie production_budget domestic_gross  \\\n",
       "0  ...    2015-06-12       Jurassic World             215.0     652.270625   \n",
       "1  ...    2012-03-09          John Carter             275.0      73.058679   \n",
       "2  ...    2010-03-05  Alice in Wonderland             200.0     334.191110   \n",
       "3  ...    2012-08-10    The Bourne Legacy             125.0     113.203870   \n",
       "4  ...    2011-03-18            Limitless              27.0      79.249455   \n",
       "\n",
       "   worldwide_gross  release_year  release_month  foreign_gross  total_profit  \\\n",
       "0      1648.854864          2015              6     996.584239   1433.854864   \n",
       "1       282.778100          2012              3     209.719421      7.778100   \n",
       "2      1025.491110          2010              3     691.300000    825.491110   \n",
       "3       280.355920          2012              8     167.152050    155.355920   \n",
       "4       155.564919          2011              3      76.315464    128.564919   \n",
       "\n",
       "        roi  \n",
       "0  6.669092  \n",
       "1  0.028284  \n",
       "2  4.127456  \n",
       "3  1.242847  \n",
       "4  4.761664  \n",
       "\n",
       "[5 rows x 22 columns]"
      ]
     },
     "execution_count": 3,
     "metadata": {},
     "output_type": "execute_result"
    }
   ],
   "source": [
    "df.head()"
   ]
  },
  {
   "cell_type": "code",
   "execution_count": null,
   "metadata": {},
   "outputs": [],
   "source": []
  },
  {
   "cell_type": "code",
   "execution_count": null,
   "metadata": {},
   "outputs": [],
   "source": []
  },
  {
   "cell_type": "code",
   "execution_count": null,
   "metadata": {},
   "outputs": [],
   "source": []
  },
  {
   "cell_type": "code",
   "execution_count": 4,
   "metadata": {},
   "outputs": [],
   "source": [
    "def regret(i=\"David\"):\n",
    "    print(f\"You had the option to work by yourself, {i}, and you blew it.\")"
   ]
  },
  {
   "cell_type": "code",
   "execution_count": 6,
   "metadata": {},
   "outputs": [
    {
     "data": {
      "text/plain": [
       "(1717, 22)"
      ]
     },
     "execution_count": 6,
     "metadata": {},
     "output_type": "execute_result"
    }
   ],
   "source": [
    "df.shape"
   ]
  },
  {
   "cell_type": "code",
   "execution_count": 6,
   "metadata": {},
   "outputs": [
    {
     "name": "stdout",
     "output_type": "stream",
     "text": [
      "You had the option to work by yourself, David, and you blew it.\n"
     ]
    }
   ],
   "source": [
    "regret()"
   ]
  },
  {
   "cell_type": "code",
   "execution_count": 7,
   "metadata": {},
   "outputs": [
    {
     "name": "stdout",
     "output_type": "stream",
     "text": [
      "You had the option to work by yourself, Fred, and you blew it.\n"
     ]
    }
   ],
   "source": [
    "regret(\"Fred\")"
   ]
  },
  {
   "cell_type": "code",
   "execution_count": 7,
   "metadata": {},
   "outputs": [
    {
     "data": {
      "text/plain": [
       "0       False\n",
       "1       False\n",
       "2       False\n",
       "3       False\n",
       "4       False\n",
       "        ...  \n",
       "1712    False\n",
       "1713    False\n",
       "1714    False\n",
       "1715    False\n",
       "1716    False\n",
       "Name: genres, Length: 1717, dtype: bool"
      ]
     },
     "execution_count": 7,
     "metadata": {},
     "output_type": "execute_result"
    }
   ],
   "source": [
    "df['genres'].str.contains(\"Horror\")"
   ]
  },
  {
   "cell_type": "code",
   "execution_count": null,
   "metadata": {},
   "outputs": [],
   "source": []
  }
 ],
 "metadata": {
  "kernelspec": {
   "display_name": "Python (learn-env)",
   "language": "python",
   "name": "learn-env"
  },
  "language_info": {
   "codemirror_mode": {
    "name": "ipython",
    "version": 3
   },
   "file_extension": ".py",
   "mimetype": "text/x-python",
   "name": "python",
   "nbconvert_exporter": "python",
   "pygments_lexer": "ipython3",
   "version": "3.8.5"
  }
 },
 "nbformat": 4,
 "nbformat_minor": 4
}
